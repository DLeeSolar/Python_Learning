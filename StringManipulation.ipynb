{
 "cells": [
  {
   "cell_type": "markdown",
   "metadata": {},
   "source": [
    "# String Manipulation\n",
    "\n",
    "There's a bunch of methods we can use on strings to mess with them."
   ]
  },
  {
   "cell_type": "markdown",
   "metadata": {},
   "source": [
    "## Count Elements of a String\n",
    "\n",
    "Considering DNA base pairs, you can count the elements in the chain. Below uses 3A, 5C, 2G and 4T. "
   ]
  },
  {
   "cell_type": "code",
   "execution_count": 1,
   "metadata": {},
   "outputs": [
    {
     "name": "stdout",
     "output_type": "stream",
     "text": [
      "[3, 5, 2, 4]\n",
      "14\n",
      "[0.21428571428571427, 0.35714285714285715, 0.14285714285714285, 0.2857142857142857]\n"
     ]
    }
   ],
   "source": [
    "# Initialise variables\n",
    "string = 'A C T A G C T G C T A C T C' # 3A, 5C, 2G, 4T\n",
    "base = ['A', 'C', 'G', 'T']\n",
    "counts = []\n",
    "pcages = []\n",
    "total = 0\n",
    "\n",
    "# Loop the `base` list to build the `counts` list.\n",
    "for i in base:\n",
    "    counts.append(string.count(i))\n",
    "\n",
    "# Loop the `counts` list to get the total number of pairs\n",
    "for j in counts:\n",
    "    total += j\n",
    "    \n",
    "# Loop the `counts` list again to get the percentages    \n",
    "for k in counts:\n",
    "    pcages.append(k / total)\n",
    "    \n",
    "print(counts, total, pcages, sep = '\\n')"
   ]
  },
  {
   "cell_type": "markdown",
   "metadata": {},
   "source": [
    "## Replace Characters in String\n",
    "\n",
    "There's a couple ways of doing this. The `maketrans` method is useful in a pinch. "
   ]
  },
  {
   "cell_type": "code",
   "execution_count": 2,
   "metadata": {},
   "outputs": [
    {
     "name": "stdout",
     "output_type": "stream",
     "text": [
      "G T A C C A T A T G G T A C\n"
     ]
    }
   ],
   "source": [
    "# Initialise the string\n",
    "string = 'C A T G G T A T A C C A T G'\n",
    "# base = ['A', 'C', 'G', 'T']\n",
    "# conj = ['T', 'G', 'C', 'A']\n",
    "\n",
    "# Use `.maketrans()` method to replace characters with their conjugate\n",
    "myTable = string.maketrans('A C G T', 'T G C A')\n",
    "print(string.translate(myTable))"
   ]
  },
  {
   "cell_type": "markdown",
   "metadata": {},
   "source": [
    "You can also do it by specifying a `dictionary`, that's essentially all `myTable` is in the example above.\n",
    "\n",
    "Below, we swap the characters for Old Persian Cuneiform characters using their Unicode values."
   ]
  },
  {
   "cell_type": "code",
   "execution_count": 6,
   "metadata": {},
   "outputs": [
    {
     "name": "stdout",
     "output_type": "stream",
     "text": [
      "myTable = {65: 66464, 32: 32, 66: 66465, 67: 66466, 68: 66467, 69: 66468, 70: 66469, 71: 66470, 72: 66471, 73: 66472, 74: 66473, 75: 66474, 76: 66475, 77: 66476, 78: 66477, 79: 66478, 80: 66479, 81: 66480, 82: 66481, 83: 66482, 84: 66483, 85: 66484, 86: 66485, 87: 66486, 88: 66487, 89: 66488, 90: 66489}\n",
      "\n",
      "A B C D E F G H I J K L M N O P Q R S T U V W X Y Z \n",
      " 𐎠 𐎡 𐎢 𐎣 𐎤 𐎥 𐎦 𐎧 𐎨 𐎩 𐎪 𐎫 𐎬 𐎭 𐎮 𐎯 𐎰 𐎱 𐎲 𐎳 𐎴 𐎵 𐎶 𐎷 𐎸 𐎹\n"
     ]
    }
   ],
   "source": [
    "# Initialise the string `alphabet` and make translation dictionary\n",
    "alphabet = 'A B C D E F G H I J K L M N O P Q R S T U V W X Y Z'\n",
    "myTable = alphabet.maketrans('A B C D E F G H I J K L M N O P Q R S T U V W X Y Z', '\\U000103A0 \\U000103A1 \\U000103A2 \\U000103A3 \\U000103A4 \\U000103A5 \\U000103A6 \\U000103A7 \\U000103A8 \\U000103A9 \\U000103AA \\U000103AB \\U000103AC \\U000103AD \\U000103AE \\U000103AF \\U000103B0 \\U000103B1 \\U000103B2 \\U000103B3 \\U000103B4 \\U000103B5 \\U000103B6 \\U000103B7 \\U000103B8 \\U000103B9')\n",
    "\n",
    "# Print out the dictionairy\n",
    "print('myTable =', myTable)\n",
    "\n",
    "# Add blank line\n",
    "print('')\n",
    "\n",
    "# Perform translation\n",
    "print(alphabet, '\\n', alphabet.translate(myTable))"
   ]
  },
  {
   "cell_type": "code",
   "execution_count": null,
   "metadata": {},
   "outputs": [],
   "source": []
  }
 ],
 "metadata": {
  "kernelspec": {
   "display_name": "Python 3",
   "language": "python",
   "name": "python3"
  },
  "language_info": {
   "codemirror_mode": {
    "name": "ipython",
    "version": 3
   },
   "file_extension": ".py",
   "mimetype": "text/x-python",
   "name": "python",
   "nbconvert_exporter": "python",
   "pygments_lexer": "ipython3",
   "version": "3.6.8"
  }
 },
 "nbformat": 4,
 "nbformat_minor": 2
}
