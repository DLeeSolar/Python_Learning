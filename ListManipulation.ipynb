{
 "cells": [
  {
   "cell_type": "markdown",
   "metadata": {},
   "source": [
    "# List Manipulation\n",
    "\n",
    "Some notes on various methods associated with lists."
   ]
  },
  {
   "cell_type": "markdown",
   "metadata": {},
   "source": [
    "## The `pop` Method\n",
    "\n",
    "We can use the `.pop()` method to remove elements from a list. Below, we'll sum all other elements of a list, except the *popped* one, to produce a new list. Should also be written in a way that the size of the list `a` is irrelevant."
   ]
  },
  {
   "cell_type": "code",
   "execution_count": 1,
   "metadata": {},
   "outputs": [
    {
     "name": "stdout",
     "output_type": "stream",
     "text": [
      "[19, 18, 17, 15, 11]\n"
     ]
    }
   ],
   "source": [
    "a = [1, 2, 3, 5, 9]\n",
    "s = []                         # initialise `p`\n",
    "\n",
    "for i in range(len(a)):\n",
    "    b = a.copy()\n",
    "    b.pop(i)                   # remove the unwanted item\n",
    "    o =0                      # reset `o` each time we pop a different element\n",
    "    for j in range(len(b)):\n",
    "        o += b[j]\n",
    "    s.append(o)\n",
    "\n",
    "print(s)"
   ]
  }
 ],
 "metadata": {
  "kernelspec": {
   "display_name": "Python 3",
   "language": "python",
   "name": "python3"
  },
  "language_info": {
   "codemirror_mode": {
    "name": "ipython",
    "version": 3
   },
   "file_extension": ".py",
   "mimetype": "text/x-python",
   "name": "python",
   "nbconvert_exporter": "python",
   "pygments_lexer": "ipython3",
   "version": "3.6.8"
  }
 },
 "nbformat": 4,
 "nbformat_minor": 2
}
