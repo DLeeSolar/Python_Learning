{
 "cells": [
  {
   "cell_type": "markdown",
   "metadata": {},
   "source": [
    "# Loop Control\n",
    "\n",
    "Some notes on various ways to control the flow of loops. There's `break`, `continue`, `else` and `pass`. "
   ]
  },
  {
   "cell_type": "markdown",
   "metadata": {},
   "source": [
    "## `break`\n",
    "\n",
    "`break` can exit a loop early. It's a trivial (and useless) example, but it makes the point."
   ]
  },
  {
   "cell_type": "code",
   "execution_count": 1,
   "metadata": {},
   "outputs": [
    {
     "name": "stdout",
     "output_type": "stream",
     "text": [
      "8 equals 8\n"
     ]
    }
   ],
   "source": [
    "x = 0\n",
    "y = 16\n",
    "while True:\n",
    "    x += 1\n",
    "    y -= 1\n",
    "    if x == y:\n",
    "        break\n",
    "    \n",
    "        \n",
    "print(x, 'equals', y)"
   ]
  },
  {
   "cell_type": "markdown",
   "metadata": {},
   "source": [
    "## `continue`\n",
    "`continue` jumps back to the start of the loop, skipping the remainder of the the code for that iteration. The below code jumps to the next iteration if `i` isn't a multiple of 4. "
   ]
  },
  {
   "cell_type": "code",
   "execution_count": 2,
   "metadata": {},
   "outputs": [
    {
     "name": "stdout",
     "output_type": "stream",
     "text": [
      "4 times 1 is 4\n",
      "4 times 2 is 8\n",
      "4 times 3 is 12\n",
      "4 times 4 is 16\n",
      "4 times 5 is 20\n"
     ]
    }
   ],
   "source": [
    "j = 0\n",
    "for i in range(1, 23):\n",
    "    if i % 4:\n",
    "        continue\n",
    "    j += 1\n",
    "    print('4 times', j, 'is', i)"
   ]
  },
  {
   "cell_type": "markdown",
   "metadata": {},
   "source": [
    "## `else`\n",
    "`else` executes when a loop ends, so long as the loop exited 'normally'. I.e., `else` doesn't execute if the loop exited on a `break`. This is kind of cool, only seen `else` with `if` statements before now. Stops incorrect statements being returned. You could work around this with `if` statements anyway, and not wait until you're out the loop to `print` the outcome, but it's a trivial example here to illustrate how it works. "
   ]
  },
  {
   "cell_type": "code",
   "execution_count": 3,
   "metadata": {},
   "outputs": [
    {
     "name": "stdout",
     "output_type": "stream",
     "text": [
      "lemon is on the list at index 3\n"
     ]
    }
   ],
   "source": [
    "fruit = ['apple', 'banana', 'orange', 'strawberry']\n",
    "choice = 'lemon'\n",
    "for i, a in enumerate(fruit):\n",
    "    if a == choice:\n",
    "        break\n",
    "\n",
    "print(choice, 'is on the list at index', i)"
   ]
  },
  {
   "cell_type": "code",
   "execution_count": 4,
   "metadata": {},
   "outputs": [
    {
     "name": "stdout",
     "output_type": "stream",
     "text": [
      "lemon is not on the list\n"
     ]
    }
   ],
   "source": [
    "fruit = ['apple', 'banana', 'orange', 'strawberry']\n",
    "choice = 'lemon'\n",
    "for i, a in enumerate(fruit):\n",
    "    if a == choice:\n",
    "        print(choice, 'is on the list at index', i)\n",
    "        break\n",
    "else:\n",
    "    print(choice, 'is not on the list')"
   ]
  },
  {
   "cell_type": "markdown",
   "metadata": {},
   "source": [
    "## `pass`\n",
    "`pass` does nothing, it's like a filler for code that hasn't been written yet. Useful to have structure ahead of times.  "
   ]
  },
  {
   "cell_type": "code",
   "execution_count": 5,
   "metadata": {},
   "outputs": [
    {
     "name": "stdout",
     "output_type": "stream",
     "text": [
      "4 times 1 is 4\n",
      "4 times 2 is 8\n",
      "4 times 3 is 12\n",
      "4 times 4 is 16\n",
      "4 times 5 is 20\n"
     ]
    }
   ],
   "source": [
    "j = 0\n",
    "for i in range(1, 23):\n",
    "    if i == 12:\n",
    "        pass # do something here\n",
    "    if i % 4:\n",
    "        continue\n",
    "    j += 1\n",
    "    print('4 times', j, 'is', i)"
   ]
  }
 ],
 "metadata": {
  "kernelspec": {
   "display_name": "Python 3",
   "language": "python",
   "name": "python3"
  },
  "language_info": {
   "codemirror_mode": {
    "name": "ipython",
    "version": 3
   },
   "file_extension": ".py",
   "mimetype": "text/x-python",
   "name": "python",
   "nbconvert_exporter": "python",
   "pygments_lexer": "ipython3",
   "version": "3.6.8"
  }
 },
 "nbformat": 4,
 "nbformat_minor": 2
}
